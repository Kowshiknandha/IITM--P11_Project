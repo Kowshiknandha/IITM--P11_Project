{
  "nbformat": 4,
  "nbformat_minor": 0,
  "metadata": {
    "colab": {
      "provenance": [],
      "authorship_tag": "ABX9TyPd3tNjg/7xozixK032FAGY",
      "include_colab_link": true
    },
    "kernelspec": {
      "name": "python3",
      "display_name": "Python 3"
    },
    "language_info": {
      "name": "python"
    }
  },
  "cells": [
    {
      "cell_type": "markdown",
      "metadata": {
        "id": "view-in-github",
        "colab_type": "text"
      },
      "source": [
        "<a href=\"https://colab.research.google.com/github/Kowshiknandha/IITM--P11_Project/blob/main/Python%20%E2%80%93%20mini%20Course%20project%20(IITM%20P11).ipynb\" target=\"_parent\"><img src=\"https://colab.research.google.com/assets/colab-badge.svg\" alt=\"Open In Colab\"/></a>"
      ]
    },
    {
      "cell_type": "markdown",
      "source": [
        "#Python – mini Course project (IITM P11)\n"
      ],
      "metadata": {
        "id": "mmixNiyZgzqe"
      }
    },
    {
      "cell_type": "markdown",
      "source": [
        "#1.Write a program to find out the prime numbers \n"
      ],
      "metadata": {
        "id": "2L6rf1PExJhn"
      }
    },
    {
      "cell_type": "code",
      "source": [
        "num = int(input(\"Enter the number: \"))\n",
        "flag=0\n",
        "if num > 1:\n",
        "    for i in range(2,num):\n",
        "        if (num % i) == 0:\n",
        "            flag=1\n",
        "            break\n",
        "    if flag==1:\n",
        "        print(num, \" is not a prime number\")\n",
        "    else:\n",
        "        print(num, \" is a prime number\")\n",
        "else:\n",
        "    print(num, \" is not a prime number\")"
      ],
      "metadata": {
        "id": "ti3iwELexNwP"
      },
      "execution_count": null,
      "outputs": []
    },
    {
      "cell_type": "markdown",
      "source": [
        "#2.write a program to create the equation (a+b+c) *  (a-b-c) * ab + a^2 + b ^2 + (abc)^3\n"
      ],
      "metadata": {
        "id": "fl_zjHy4xSgA"
      }
    },
    {
      "cell_type": "code",
      "source": [
        "a = int(input('Enter value of a'))\n",
        "b = int(input('Enter value of b'))\n",
        "c = int(input('Enter value of c'))\n",
        "\n",
        "eq = (a+b+c)*(a-b-c)*(a*b)+(a**2)+(b**2)+(a*b*c)**3\n",
        "\n",
        "print('Equationv is:(',a,'+',b,'+',c,') * (',a,'-',b,'-',c,') * ',a,'*',b,' +', a,'^2 +', b,' ^2 + (',a,'*',b,'*',c,')^3 =',eq)\n"
      ],
      "metadata": {
        "id": "RoBlYwWOxWOi"
      },
      "execution_count": null,
      "outputs": []
    },
    {
      "cell_type": "markdown",
      "source": [],
      "metadata": {
        "id": "NsmvX-VExWvb"
      }
    },
    {
      "cell_type": "markdown",
      "source": [
        "#3. urlist = ['wood','knife','axe'] , mylist = ['tree', 'apple', 'mango', 'melon'] – combine two lists\n"
      ],
      "metadata": {
        "id": "CLN6zKffxZKy"
      }
    },
    {
      "cell_type": "code",
      "source": [
        " urlist = ['wood','knife','axe']\n",
        " mylist = ['tree', 'apple', 'mango', 'melon'] \n",
        " list3 =urlist+mylist\n",
        " print(list3)"
      ],
      "metadata": {
        "id": "fCFHyX6cx4vd",
        "colab": {
          "base_uri": "https://localhost:8080/"
        },
        "outputId": "2b9aac02-689d-4828-dbdd-c6dd437c351d"
      },
      "execution_count": 10,
      "outputs": [
        {
          "output_type": "stream",
          "name": "stdout",
          "text": [
            "['wood', 'knife', 'axe', 'tree', 'apple', 'mango', 'melon']\n"
          ]
        }
      ]
    },
    {
      "cell_type": "markdown",
      "source": [
        "#4.write a program for natural number based on user input"
      ],
      "metadata": {
        "id": "I53jnGIwxaPY"
      }
    },
    {
      "cell_type": "code",
      "source": [
        "num = int(input(\"Enter a number: \"))  \n",
        "  \n",
        "if num <= 0:  \n",
        "   print(\"NOT A NATURAL NAUMBER\")  \n",
        "else:  \n",
        "   if num > 0:\n",
        "      print(\"It is a natural number\")  "
      ],
      "metadata": {
        "id": "cGzjzIWY0K8V"
      },
      "execution_count": null,
      "outputs": []
    },
    {
      "cell_type": "markdown",
      "source": [],
      "metadata": {
        "id": "LmaQwLjLxe1-"
      }
    },
    {
      "cell_type": "markdown",
      "source": [
        "#5.write class and function for the equation sqrt(x1-x2) ^ 2 + sqrt( y1 – y2 ) ^2 using try except handling"
      ],
      "metadata": {
        "id": "gTvtbKQHxg-j"
      }
    },
    {
      "cell_type": "code",
      "source": [
        "class point:\n",
        "    def __init__(self, x1, y1, x2, y2):\n",
        "        self.x1 = x1\n",
        "        self.y1 = y1\n",
        "        self.x2 = x2\n",
        "        self.y2 = y2\n",
        "\n",
        "    def calculate_distance(self):\n",
        "        try:\n",
        "            return (sqrt(self.x1 - self.x2) ** 2 + sqrt(self.y1 - self.y2) ** 2)\n",
        "        except ValueError:\n",
        "            print(\"Not all arguments are numbers\")"
      ],
      "metadata": {
        "id": "1X13KrFybMgX"
      },
      "execution_count": 3,
      "outputs": []
    },
    {
      "cell_type": "markdown",
      "source": [
        "#6. Name  = “Guvi python”  - write a program to get “python” word from the string"
      ],
      "metadata": {
        "id": "h3ba6wp6xiHU"
      }
    },
    {
      "cell_type": "code",
      "source": [
        "test_str = input()\n",
        "print(\" The original string is: \" + test_str)\n",
        "x = test_str.split()\n",
        "res=\" \".join(x[1:])\n",
        "print(\"The string after omitting first word is : \" + str(res))"
      ],
      "metadata": {
        "id": "nd9_x-6m4Ngg",
        "colab": {
          "base_uri": "https://localhost:8080/"
        },
        "outputId": "7973a3d3-4cb2-4b59-db94-e3a33de91a53"
      },
      "execution_count": 12,
      "outputs": [
        {
          "output_type": "stream",
          "name": "stdout",
          "text": [
            "Guvi python\n",
            " The original string is: Guvi python\n",
            "The string after omitting first word is : python\n"
          ]
        }
      ]
    },
    {
      "cell_type": "markdown",
      "source": [
        "#7.Using class and function - Write a program for palindrome Ex. Madam\n"
      ],
      "metadata": {
        "id": "ByQMhdi1xld3"
      }
    },
    {
      "cell_type": "code",
      "source": [
        "class Palindrome:\n",
        "    def __init__(self):\n",
        "        pass\n",
        "\n",
        "    def is_palindrome(self, string):\n",
        "        return string == string[::-1]\n",
        "\n",
        "# main\n",
        "p = Palindrome()\n",
        "\n",
        "word = input(\"Enter a word: \")\n",
        "\n",
        "if(p.is_palindrome(word)):\n",
        "    print(\"The word is a palindrome\")\n",
        "else:\n",
        "    print(\"The word is not a palindrome\")"
      ],
      "metadata": {
        "id": "Dn_DENg06i4z"
      },
      "execution_count": null,
      "outputs": []
    },
    {
      "cell_type": "markdown",
      "source": [
        "#8.using file handling – write a text file in ur system with “hello world"
      ],
      "metadata": {
        "id": "oVi4wuMPxp1H"
      }
    },
    {
      "cell_type": "code",
      "source": [
        "\n",
        "file = open(\"textfile.txt\",\"w\") \n",
        "file.write(\"hello world\") \n",
        "file.close()"
      ],
      "metadata": {
        "id": "_xuSoadgb1NK"
      },
      "execution_count": 5,
      "outputs": []
    },
    {
      "cell_type": "markdown",
      "source": [
        "#9.create option button using tkinter GUI in python"
      ],
      "metadata": {
        "id": "JxaBQzzhxtm3"
      }
    },
    {
      "cell_type": "code",
      "source": [
        "from tkinter import *\n",
        "\n",
        "root = Tk()\n",
        "\n",
        "v = IntVar()\n",
        "\n",
        "Radiobutton(root, text=\"Option 1\", variable=v, value=1).pack(anchor=W)\n",
        "Radiobutton(root, text=\"Option 2\", variable=v, value=2).pack(anchor=W)\n",
        "\n",
        "mainloop()"
      ],
      "metadata": {
        "id": "U9YTOEIVeG4M"
      },
      "execution_count": null,
      "outputs": []
    },
    {
      "cell_type": "markdown",
      "source": [
        "#10.Keep only numbers from the following string x = “ 89e9jcd^o38829@3%3,/mkl$w1”\n"
      ],
      "metadata": {
        "id": "MlkUpb1Ixwqv"
      }
    },
    {
      "cell_type": "code",
      "source": [
        "x = \"89e9jcd^o38829@3%3,/mkl$w1\"\n",
        "for i in x:\n",
        "    if i.isnumeric():\n",
        "        print(i, end='')"
      ],
      "metadata": {
        "id": "8gp7fJc_zIsR"
      },
      "execution_count": null,
      "outputs": []
    },
    {
      "cell_type": "markdown",
      "source": [],
      "metadata": {
        "id": "D7U5q4e9x3OZ"
      }
    }
  ]
}